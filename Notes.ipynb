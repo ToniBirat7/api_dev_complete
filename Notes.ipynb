{
 "cells": [
  {
   "cell_type": "markdown",
   "id": "63cf2ac9",
   "metadata": {},
   "source": [
    "## **Resources**\n"
   ]
  }
 ],
 "metadata": {
  "language_info": {
   "name": "python"
  }
 },
 "nbformat": 4,
 "nbformat_minor": 5
}

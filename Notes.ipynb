{
 "cells": [
  {
   "cell_type": "markdown",
   "id": "63cf2ac9",
   "metadata": {},
   "source": [
    "## **Resources**\n",
    "\n",
    "[How_To_Design_Complete_API](https://www.youtube.com/watch?v=7iHl71nt49o)\n"
   ]
  },
  {
   "cell_type": "markdown",
   "id": "352e48ce",
   "metadata": {},
   "source": [
    "## **Intro**\n",
    "\n",
    "<hr>\n"
   ]
  }
 ],
 "metadata": {
  "language_info": {
   "name": "python"
  }
 },
 "nbformat": 4,
 "nbformat_minor": 5
}

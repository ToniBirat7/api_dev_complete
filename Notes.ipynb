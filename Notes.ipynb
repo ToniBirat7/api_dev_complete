{
 "cells": [
  {
   "cell_type": "markdown",
   "id": "63cf2ac9",
   "metadata": {},
   "source": [
    "## **Resources**\n",
    "\n",
    "[How_To_Design_Complete_API](https://www.youtube.com/watch?v=7iHl71nt49o)\n"
   ]
  },
  {
   "cell_type": "markdown",
   "id": "352e48ce",
   "metadata": {},
   "source": [
    "## **API Design**\n",
    "\n",
    "<hr>\n",
    "\n",
    "### **Three Most Common API Style**\n",
    "\n",
    "<img src='./Notes_Images/types.png'>\n",
    "\n",
    "### **Difference Between REST and GraphQL**\n",
    "\n",
    "<img src='./Notes_Images/vs.png'>\n"
   ]
  }
 ],
 "metadata": {
  "language_info": {
   "name": "python"
  }
 },
 "nbformat": 4,
 "nbformat_minor": 5
}

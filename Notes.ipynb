{
 "cells": [
  {
   "cell_type": "markdown",
   "id": "63cf2ac9",
   "metadata": {},
   "source": [
    "## **Resources**\n",
    "\n",
    "[How_To_Design_Complete_API](https://www.youtube.com/watch?v=7iHl71nt49o)\n"
   ]
  },
  {
   "cell_type": "markdown",
   "id": "352e48ce",
   "metadata": {},
   "source": [
    "## **API Design**\n",
    "\n",
    "<hr>\n",
    "\n",
    "### **Three Most Common API Style**\n",
    "\n",
    "<img src='./Notes_Images/types.png'>\n",
    "\n",
    "### **Difference Between REST and GraphQL**\n",
    "\n",
    "<img src='./Notes_Images/vs.png'>\n",
    "\n",
    "<hr>\n"
   ]
  },
  {
   "cell_type": "markdown",
   "id": "182f9087",
   "metadata": {},
   "source": [
    "## **Design Principles of API**\n",
    "\n",
    "<img src='./Notes_Images/principle.png'>\n",
    "\n",
    "<img src='./Notes_Images/prin2.png'>\n",
    "\n",
    "<hr>\n",
    "\n",
    "### **1. Consistency**\n",
    "\n",
    "Consistency in API design means using the same conventions and patterns throughout the API. This includes naming conventions, response formats, and error handling. Consistent APIs are easier to understand and use.\n",
    "\n",
    "### **2. Simplicity**\n",
    "\n",
    "Simplicity is about making the API easy to use and understand. This can be achieved by reducing the number of endpoints, using clear and concise naming, and providing comprehensive documentation.\n",
    "\n",
    "### **3. Security**\n",
    "\n",
    "Security is a critical aspect of API design. This includes implementing authentication and authorization, validating input data, and protecting against common vulnerabilities such as SQL injection and cross-site scripting (XSS).\n",
    "\n",
    "### **4. Performance**\n",
    "\n",
    "Performance is about ensuring that the API responds quickly and can handle a large number of requests. This can be achieved by optimizing database queries, using caching, and minimizing the size of responses.\n"
   ]
  }
 ],
 "metadata": {
  "language_info": {
   "name": "python"
  }
 },
 "nbformat": 4,
 "nbformat_minor": 5
}
